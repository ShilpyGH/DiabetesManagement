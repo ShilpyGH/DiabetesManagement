{
 "cells": [
  {
   "cell_type": "markdown",
   "metadata": {},
   "source": [
    "# ** Diabetes Management with Multiple Devices**"
   ]
  },
  {
   "cell_type": "code",
   "execution_count": null,
   "metadata": {},
   "outputs": [],
   "source": [
    "import DiabetesMonitoring as dm\n",
    "import holoviews as hv"
   ]
  },
  {
   "cell_type": "markdown",
   "metadata": {},
   "source": [
    "First things first, enter your information.  We'll use your a1c target to see how your blood sugar is tracking later.\n",
    "\n",
    "** Update with information about yourself (or whos data you are analyzing).**"
   ]
  },
  {
   "cell_type": "code",
   "execution_count": null,
   "metadata": {},
   "outputs": [],
   "source": [
    "Me = dm.Diabetic(first_name='Mike', \n",
    "    sex='M',\n",
    "    dob=None,\n",
    "    a1c_target=6.5,\n",
    "    diagnosis_year=2002,\n",
    "    diagnosis_type=1)"
   ]
  },
  {
   "cell_type": "markdown",
   "metadata": {},
   "source": [
    "From, this we can calculate a blood glucose (mg/dl) target:"
   ]
  },
  {
   "cell_type": "code",
   "execution_count": null,
   "metadata": {},
   "outputs": [],
   "source": [
    "print('Daily glucose target is %s'%Me.eag_target)\n",
    "glucose_target=Me.eag_target"
   ]
  },
  {
   "cell_type": "markdown",
   "metadata": {},
   "source": [
    "*There are two possible data sources currently supported, one for insulin and the other for continuous blood glucose.*"
   ]
  },
  {
   "cell_type": "markdown",
   "metadata": {},
   "source": [
    "First, we will identify the location and file name of our Contious Glucose Monitor system (**Dexcom**).\n",
    "\n",
    "Update the **file_name** in the cell below."
   ]
  },
  {
   "cell_type": "code",
   "execution_count": null,
   "metadata": {},
   "outputs": [],
   "source": [
    "dexcom = dm.Dexcom(file_folder=\"DiabetesManagement/Data/Dexcom\",\n",
    "                        file_name=\"CLARITY_Export__Name_2017-12-15_014001.csv\",\n",
    "                        data_source=\"Dexcom\")\n",
    "\n",
    "df_d = dexcom.read_data()\n",
    "glucose = dm.dexcom_clean(df_d)"
   ]
  },
  {
   "cell_type": "markdown",
   "metadata": {},
   "source": [
    "Then, we will do the same for the insulin delivery information (**Omnipod log**).\n",
    "\n",
    "Update the **file_name** in the cell below."
   ]
  },
  {
   "cell_type": "code",
   "execution_count": null,
   "metadata": {},
   "outputs": [],
   "source": [
    "omnipod = dm.Omnipod(file_folder=\"DiabetesManagement/Data/Omnipod\",\n",
    "                        file_name=\"Omnipod_20171214.xlsx\", \n",
    "                        data_source=\"Omnipod\")\n",
    "\n",
    "df_o = omnipod.read_data()\n",
    "insulin = dm.omnipod_to_tabular(df_o)\n",
    "#(isinstance(omnipod,dm.DiabetesData)==True) == (issubclass(dm.Omnipod,dm.DiabetesData)==True)"
   ]
  },
  {
   "cell_type": "markdown",
   "metadata": {},
   "source": [
    " "
   ]
  },
  {
   "cell_type": "markdown",
   "metadata": {},
   "source": [
    " "
   ]
  },
  {
   "cell_type": "markdown",
   "metadata": {},
   "source": [
    "# ** Glucose and Bolus Overlay **\n"
   ]
  },
  {
   "cell_type": "markdown",
   "metadata": {},
   "source": [
    "Combine Omnipod and Dexcom data for an interactive visualization."
   ]
  },
  {
   "cell_type": "code",
   "execution_count": null,
   "metadata": {},
   "outputs": [],
   "source": [
    "print(\"Dexcom data ranges from   \"+str(min(glucose['event_time']))+\"  to  \"+str(max(glucose['event_time']))+\"\\n\"\n",
    "      \"\\nOmnipod data ranges from  \"+str(min(df_o['Date']))+\"  to  \"+str(max(df_o['Date'])))"
   ]
  },
  {
   "cell_type": "markdown",
   "metadata": {},
   "source": [
    " "
   ]
  },
  {
   "cell_type": "markdown",
   "metadata": {},
   "source": [
    "\n",
    "\n",
    "You can optionally add *min_date* and *max_date* from the data date ranges to look at more specific time periods."
   ]
  },
  {
   "cell_type": "code",
   "execution_count": null,
   "metadata": {},
   "outputs": [],
   "source": [
    "import datetime\n",
    "glucose_chart = dm.glucose_bolus_df(insulin,glucose,\n",
    "                                    min_date=datetime.datetime(2017,10,1,0,0,0))"
   ]
  },
  {
   "cell_type": "code",
   "execution_count": null,
   "metadata": {},
   "outputs": [],
   "source": [
    "%%opts Overlay [width=900 legend_position='right'] Curve (muted_alpha=0.5 muted_color='black')\n",
    "%%opts Scatter [width=800 height=400 size_index='growth'] (color=Palette('Category20') size=5)\n",
    "\n",
    "x = glucose_chart['event_time']\n",
    "y = glucose_chart['Glucose Value (mg/dL)']\n",
    "z = glucose_chart['BolusFlg']\n",
    "t = glucose_target\n",
    "hv.Curve((x, y), 'Date', 'Blood Sugar', label='CGM') *\\\n",
    "hv.Scatter((x, z), 'Date', 'Bolus', label='Bolus') *\\\n",
    "hv.Curve((x, t), 'Date', 'Target', label='Target')"
   ]
  },
  {
   "cell_type": "markdown",
   "metadata": {},
   "source": [
    "#### *Use the tools to the right of the chart to explore the data!*"
   ]
  },
  {
   "cell_type": "markdown",
   "metadata": {
    "collapsed": true
   },
   "source": [
    " "
   ]
  },
  {
   "cell_type": "markdown",
   "metadata": {},
   "source": [
    "## Review Blood Sugar Tendencies after Bolus"
   ]
  },
  {
   "cell_type": "markdown",
   "metadata": {},
   "source": [
    "Seeing bg \"at bolus\" (when eating) and two hours after eating, shows whether Bolus are being used effectively to regular blood sugar.\n",
    "\n",
    "Recall, you data date ranges from above. You can optionally add *min_date* and *max_date* to the function for a more specific view.  As a default, this will show all values in the datasource."
   ]
  },
  {
   "cell_type": "code",
   "execution_count": null,
   "metadata": {
    "collapsed": true
   },
   "outputs": [],
   "source": [
    "combined = dm.bolus_efficacy(insulin, glucose, shift_minutes=120)"
   ]
  },
  {
   "cell_type": "code",
   "execution_count": null,
   "metadata": {},
   "outputs": [],
   "source": [
    "%%opts BoxWhisker [width=400 height=400 xrotation=30 show_title=True, tools=['hover']] \n",
    "%%opts BoxWhisker (box_fill_color=Palette('Category10')) norm{-axiswise}\n",
    "\n",
    "Bolus_dex = hv.Dataset(combined, kdims=['Bolus Time of Day'])\n",
    "Bolus_dex.to(hv.BoxWhisker, 'Bolus Time of Day', 'Glucose at Bolus') + \\\n",
    "Bolus_dex.to(hv.BoxWhisker, 'Bolus Time of Day', 'Glucose after time period')\n"
   ]
  },
  {
   "cell_type": "markdown",
   "metadata": {},
   "source": [
    "## Bolus Use"
   ]
  },
  {
   "cell_type": "markdown",
   "metadata": {},
   "source": [
    "##### Average Bolus by Type"
   ]
  },
  {
   "cell_type": "code",
   "execution_count": null,
   "metadata": {},
   "outputs": [],
   "source": [
    "x = dm.average_bolus(insulin)[0:1]\n",
    "x"
   ]
  },
  {
   "cell_type": "markdown",
   "metadata": {},
   "source": [
    "#### View Daily Total Bolus Use"
   ]
  },
  {
   "cell_type": "code",
   "execution_count": null,
   "metadata": {},
   "outputs": [],
   "source": [
    "%%opts Curve [width=800 height=400 ] (color='green' line_width=2)\n",
    "daily_bolus = dm.daily_bolus(insulin)\n",
    "x = daily_bolus['Date']\n",
    "y = daily_bolus['Total Bolus']\n",
    "hv.Curve((x, y), 'Date', 'Total Bolus')"
   ]
  }
 ],
 "metadata": {
  "kernelspec": {
   "display_name": "Python 3",
   "language": "python",
   "name": "python3"
  },
  "language_info": {
   "codemirror_mode": {
    "name": "ipython",
    "version": 3
   },
   "file_extension": ".py",
   "mimetype": "text/x-python",
   "name": "python",
   "nbconvert_exporter": "python",
   "pygments_lexer": "ipython3",
   "version": "3.6.1"
  }
 },
 "nbformat": 4,
 "nbformat_minor": 2
}
